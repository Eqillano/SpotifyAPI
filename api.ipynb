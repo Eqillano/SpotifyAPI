{
 "cells": [
  {
   "cell_type": "code",
   "execution_count": 1,
   "metadata": {},
   "outputs": [],
   "source": [
    "import base64\n",
    "import requests\n",
    "import datetime\n",
    "\n",
    "client_id = '6f511f76a1e44dcdb8c740dc527d497d'\n",
    "client_secret = '908a52d2d6eb4d01b84ed47ff3a2319d'\n",
    "client_creds = f'{client_id}:{client_secret}'\n",
    "client_creds_b64 = base64.b64encode(client_creds.encode())\n"
   ]
  },
  {
   "cell_type": "code",
   "execution_count": 2,
   "metadata": {},
   "outputs": [],
   "source": [
    "token_url = 'https://accounts.spotify.com/api/token'\n",
    "\n",
    "method='POST'\n",
    "\n",
    "token_data = {\n",
    "    'grant_type':\"client_credentials\",\n",
    "    \n",
    "}\n",
    "token_headers = {\n",
    "    \"Authorization\": f'Basic {client_creds_b64.decode()}'\n",
    "}"
   ]
  },
  {
   "cell_type": "code",
   "execution_count": 6,
   "metadata": {},
   "outputs": [],
   "source": [
    "r = requests.post(token_url,data=token_data,headers=token_headers)\n",
    "valid_request = r.status_code in range(200,299)\n"
   ]
  },
  {
   "cell_type": "code",
   "execution_count": 10,
   "metadata": {},
   "outputs": [],
   "source": [
    "if valid_request:\n",
    "   token_response_data = r.json()\n",
    "   now = datetime.datetime.now()\n",
    "   access_token = token_response_data['access_token']\n",
    "   expires_in = token_response_data['expires_in']\n",
    "   expires = now + datetime.timedelta(seconds=expires_in)\n",
    "   did_expire = expires < now"
   ]
  }
 ],
 "metadata": {
  "kernelspec": {
   "display_name": "Python 3",
   "language": "python",
   "name": "python3"
  },
  "language_info": {
   "codemirror_mode": {
    "name": "ipython",
    "version": 3
   },
   "file_extension": ".py",
   "mimetype": "text/x-python",
   "name": "python",
   "nbconvert_exporter": "python",
   "pygments_lexer": "ipython3",
   "version": "3.7.6"
  }
 },
 "nbformat": 4,
 "nbformat_minor": 4
}
